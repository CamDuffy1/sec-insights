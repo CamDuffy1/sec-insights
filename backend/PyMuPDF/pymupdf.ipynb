{
 "cells": [
  {
   "cell_type": "code",
   "execution_count": 6,
   "metadata": {},
   "outputs": [
    {
     "name": "stdout",
     "output_type": "stream",
     "text": [
      "134 pages in document\n"
     ]
    }
   ],
   "source": [
    "import fitz # imports the pymupdf library\n",
    "doc = fitz.open('./Meta SEC 10-K 2022.pdf')\n",
    "print(f\"{doc.page_count} pages in document\")"
   ]
  },
  {
   "cell_type": "code",
   "execution_count": 7,
   "metadata": {},
   "outputs": [],
   "source": [
    "from utils import get_words_from_PDF\n",
    "words = get_words_from_PDF(doc, start_page=2)"
   ]
  },
  {
   "cell_type": "code",
   "execution_count": 8,
   "metadata": {},
   "outputs": [
    {
     "name": "stdout",
     "output_type": "stream",
     "text": [
      "Section: Item 2. Properties\n",
      "Body:\n",
      "Our corporate headquarters are located in Menlo Park, California. As of December 31, 2021, we owned and leased approximately 10 million square feet of office and building space for our corporate headquarters and in the surrounding areas, and approximately 69 acres of land to be developed to accommodate anticipated future growth. In addition, we have offices in more than 80 cities across North America, Europe, the Middle East, Africa, Asia Pacific, and Latin America. We also own 18 data centers globally. We believe that our facilities are adequate for our current needs.\n"
     ]
    }
   ],
   "source": [
    "from utils import get_section\n",
    "\n",
    "start_str = \"Item 2. Properties\"\n",
    "end_string = \"Item 3. Legal Proceedings\"\n",
    "\n",
    "body = get_section(\n",
    "    start_str=start_str,\n",
    "    end_string=end_string,\n",
    "    words=words,\n",
    ")\n",
    "if body:    # only runs if start_str & end_string found\n",
    "    print(f\"Section: {start_str}\")\n",
    "    print(f\"Body:\\n{body}\")"
   ]
  }
 ],
 "metadata": {
  "kernelspec": {
   "display_name": "llama-app-backend--Qk0ygDj-py3.11",
   "language": "python",
   "name": "python3"
  },
  "language_info": {
   "codemirror_mode": {
    "name": "ipython",
    "version": 3
   },
   "file_extension": ".py",
   "mimetype": "text/x-python",
   "name": "python",
   "nbconvert_exporter": "python",
   "pygments_lexer": "ipython3",
   "version": "3.11.3"
  }
 },
 "nbformat": 4,
 "nbformat_minor": 2
}
